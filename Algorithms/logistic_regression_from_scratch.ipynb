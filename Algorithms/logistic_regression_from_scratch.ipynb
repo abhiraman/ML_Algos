{
  "nbformat": 4,
  "nbformat_minor": 0,
  "metadata": {
    "colab": {
      "name": "logistic_regression_from_scratch.ipynb",
      "provenance": [],
      "collapsed_sections": [],
      "authorship_tag": "ABX9TyONyAXXRt/VtlN68EijYOHp",
      "include_colab_link": true
    },
    "kernelspec": {
      "name": "python3",
      "display_name": "Python 3"
    },
    "language_info": {
      "name": "python"
    }
  },
  "cells": [
    {
      "cell_type": "markdown",
      "metadata": {
        "id": "view-in-github",
        "colab_type": "text"
      },
      "source": [
        "<a href=\"https://colab.research.google.com/github/abhiraman/ML_Algos/blob/main/Algorithms/logistic_regression_from_scratch.ipynb\" target=\"_parent\"><img src=\"https://colab.research.google.com/assets/colab-badge.svg\" alt=\"Open In Colab\"/></a>"
      ]
    },
    {
      "cell_type": "code",
      "source": [
        "import numpy as np\n",
        "import pandas as pd\n",
        "import sklearn\n",
        "import seaborn as sns\n",
        "import matplotlib.pyplot as plt\n",
        "from sklearn.model_selection import train_test_split"
      ],
      "metadata": {
        "id": "xRIxoN3JjSSB"
      },
      "execution_count": 41,
      "outputs": []
    },
    {
      "cell_type": "code",
      "execution_count": 21,
      "metadata": {
        "id": "-WGxI9CdK-Oc"
      },
      "outputs": [],
      "source": [
        "def sigmoid_fn(feature_vector,wt_vector,bias):\n",
        "  total = np.sum(np.multiply(feature_vector,wt_vector),axis=1)\n",
        "  z = np.sum((total,np.ones(total.shape)*bias),axis=0)\n",
        "  return 1/(1+np.exp(-z))\n"
      ]
    },
    {
      "cell_type": "code",
      "source": [
        "def gradient(y_pred,y,feature_vec):\n",
        "  del_w = np.matmul(np.subtract(y_pred,y),feature_vec)\n",
        "  del_b = np.sum(np.subtract(y_pred,y))\n",
        "  return del_w,del_b\n"
      ],
      "metadata": {
        "id": "r76hAfBvnl0h"
      },
      "execution_count": 96,
      "outputs": []
    },
    {
      "cell_type": "code",
      "source": [
        "def bce_loss(y_pred,y):\n",
        "  ones = np.ones(y_pred.shape)\n",
        "  a = np.multiply((ones-y),np.log(ones-y_pred))\n",
        "  b = np.multiply(y,np.log(y_pred))\n",
        "  return np.sum(-(a+b))"
      ],
      "metadata": {
        "id": "bKTgmsMw0Bld"
      },
      "execution_count": 23,
      "outputs": []
    },
    {
      "cell_type": "code",
      "source": [
        "y_true = np.array([[1,2,0]])\n",
        "w = np.array([[0.2,-.4,0.002]])\n",
        "\n",
        "b= 0.2\n",
        "feature = np.array([[1,0,3],[1,1,2],[0,2,2]])\n",
        "\n",
        "y_pred = sigmoid_fn(feature,w,b)\n",
        "print(gradient(y_pred,y_true,feature))\n",
        "\n",
        "print(bce_loss(y_pred,y_true))"
      ],
      "metadata": {
        "id": "KAv1tw-9x3oK"
      },
      "execution_count": null,
      "outputs": []
    },
    {
      "cell_type": "code",
      "source": [
        "def intialize_params(wt_size):\n",
        "  ## 1D Convolution ##\n",
        "  wts = np.random.randn(1,wt_size)\n",
        "  bias = np.random.randn(1,)[0]\n",
        "  return wts,bias\n",
        "\n"
      ],
      "metadata": {
        "id": "GZ7AuTydlZCL"
      },
      "execution_count": 27,
      "outputs": []
    },
    {
      "cell_type": "code",
      "source": [
        "def accuracy(y_pred,y):\n",
        "  return (len(np.where(y_pred==y))/y_pred.shape[0])*100"
      ],
      "metadata": {
        "id": "7IVDCWJQoFwH"
      },
      "execution_count": 103,
      "outputs": []
    },
    {
      "cell_type": "code",
      "source": [
        "from google.colab import drive\n",
        "drive.mount('/gdrive')\n",
        "%cd /gdrive/MyDrive/DS_Tasks/Titanic Dataset"
      ],
      "metadata": {
        "colab": {
          "base_uri": "https://localhost:8080/"
        },
        "id": "fnMYgCVHpZOV",
        "outputId": "7df36c2a-523c-4a60-f56e-ee06d5ad701d"
      },
      "execution_count": 42,
      "outputs": [
        {
          "output_type": "stream",
          "name": "stdout",
          "text": [
            "Mounted at /gdrive\n",
            "/gdrive/MyDrive/DS_Tasks/Titanic Dataset\n"
          ]
        }
      ]
    },
    {
      "cell_type": "code",
      "source": [
        "train_df = pd.read_csv(r\"train.csv\")"
      ],
      "metadata": {
        "id": "TA1BI2XvphC8"
      },
      "execution_count": 43,
      "outputs": []
    },
    {
      "cell_type": "code",
      "source": [
        "\n",
        "all_features = list(train_df.columns)\n",
        "req_features = ['Pclass','Sex','SibSp','Parch','Survived']\n",
        "dropped_features = list(set(all_features).difference(req_features))\n",
        "print(\"Features not considered:\",dropped_features)\n",
        "new_train_df = train_df.drop(dropped_features,axis=1)\n",
        "survival = new_train_df['Survived']\n",
        "new_train_df = new_train_df.drop('Survived',axis=1)\n",
        "\n",
        "new_train_df['Sex'].replace(['male','female'],\n",
        "                        [0, 1], inplace=True)"
      ],
      "metadata": {
        "colab": {
          "base_uri": "https://localhost:8080/"
        },
        "id": "ieDH1Q_cpjhN",
        "outputId": "3c701551-89c9-43a2-ccb8-0d0d57a9fb70"
      },
      "execution_count": 44,
      "outputs": [
        {
          "output_type": "stream",
          "name": "stdout",
          "text": [
            "Features not considered: ['PassengerId', 'Name', 'Fare', 'Ticket', 'Cabin', 'Age', 'Embarked']\n"
          ]
        }
      ]
    },
    {
      "cell_type": "code",
      "source": [
        "x_train,x_test,y_train,y_test = train_test_split(new_train_df,survival,test_size=.3,random_state=10)"
      ],
      "metadata": {
        "id": "x8qrjAHYpvHs"
      },
      "execution_count": 81,
      "outputs": []
    },
    {
      "cell_type": "code",
      "source": [
        "def fit(input,target,epochs,lr=0.1):\n",
        "\n",
        "  wt,b = intialize_params(input.shape[1])\n",
        "  max_loss = 100000\n",
        "  final_wt,final_bias = None,None\n",
        "  for i in range(epochs):\n",
        "    del_w,del_b = 0,0\n",
        "    y_pred = sigmoid_fn(input,wt,b)\n",
        "    loss = bce_loss(y_pred,target)\n",
        "\n",
        "    del_w,del_b = gradient(y_pred,target,input)\n",
        "    wt = wt - (lr*del_w)\n",
        "    b = b - (lr*del_b)\n",
        "    if i%10==0:\n",
        "      print(\"Loss {} after {} Epochs\".format(loss,i))\n",
        "      print(\"Training Accuracy : {}\".format(accuracy(y_pred,target)))\n",
        "    if loss<max_loss:\n",
        "      final_wt = wt\n",
        "      final_bias = b\n",
        "  return final_wt,final_bias\n",
        "\n",
        "    "
      ],
      "metadata": {
        "id": "7qDx2NTYzxRj"
      },
      "execution_count": 118,
      "outputs": []
    },
    {
      "cell_type": "code",
      "source": [
        "fit(x_train.to_numpy(),y_train.to_numpy(),1000)"
      ],
      "metadata": {
        "id": "B-o1G_jyp78M"
      },
      "execution_count": null,
      "outputs": []
    }
  ]
}