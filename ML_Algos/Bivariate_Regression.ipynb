{
  "nbformat": 4,
  "nbformat_minor": 0,
  "metadata": {
    "colab": {
      "name": "Bivariate_Regression.ipynb",
      "provenance": [],
      "collapsed_sections": [],
      "authorship_tag": "ABX9TyOkjdaWNFZbUxJcrAHHLfEO",
      "include_colab_link": true
    },
    "kernelspec": {
      "name": "python3",
      "display_name": "Python 3"
    },
    "language_info": {
      "name": "python"
    }
  },
  "cells": [
    {
      "cell_type": "markdown",
      "metadata": {
        "id": "view-in-github",
        "colab_type": "text"
      },
      "source": [
        "<a href=\"https://colab.research.google.com/github/abhiraman/ML_Algos/blob/main/ML_Algos/Bivariate_Regression.ipynb\" target=\"_parent\"><img src=\"https://colab.research.google.com/assets/colab-badge.svg\" alt=\"Open In Colab\"/></a>"
      ]
    },
    {
      "cell_type": "code",
      "source": [
        "import numpy as np"
      ],
      "metadata": {
        "id": "MQPPBofVeVBa"
      },
      "execution_count": 1,
      "outputs": []
    },
    {
      "cell_type": "code",
      "source": [
        "np.random.seed(20)\n",
        "x1 = np.expand_dims(np.random.randint(-5,10,size=(10,)),axis=0)\n",
        "x2 = np.expand_dims(np.random.randint(-10,2,size=(10,)),axis=0)\n",
        "print(\"x1\",x1)\n",
        "print(\"x2\",x2)\n"
      ],
      "metadata": {
        "colab": {
          "base_uri": "https://localhost:8080/"
        },
        "id": "CYMsLYoihIko",
        "outputId": "6b41cf40-3db8-4984-ebb1-c24b3117eec4"
      },
      "execution_count": 46,
      "outputs": [
        {
          "output_type": "stream",
          "name": "stdout",
          "text": [
            "x1 [[-2  5  7  5  4 -1  6  1  2 -3]]\n",
            "x2 [[-10  -4  -2  -5   0   0   1  -7 -10  -4]]\n"
          ]
        }
      ]
    },
    {
      "cell_type": "code",
      "execution_count": 39,
      "metadata": {
        "id": "5sY7gdCydwaP"
      },
      "outputs": [],
      "source": [
        "def _initialize_weights():\n",
        "  a,b,c = np.random.randn(3)\n",
        "  return a,b,c"
      ]
    },
    {
      "cell_type": "code",
      "source": [
        "## f(x) = 2 + 4X1 -3X2\n",
        "def actual_func(x1,x2,a,b,c):\n",
        "  features,params = (x1,x2),(a,b,c)\n",
        "  #all_arrays = []\n",
        "  comp_array = 0\n",
        "  for eFeature,eWeight in  list(zip(features,params)):\n",
        "    comp_array += np.sum(np.multiply(np.array(eFeature),np.array(eWeight)),axis=0)\n",
        "  comp_array +=np.sum(params[-1],axis=0)\n",
        "  return comp_array\n",
        "\n",
        "# np.random.seed(20)\n",
        "# a,b,c = _initialize_weights()\n",
        "# a,b,c = np.ones(x1.shape)*a,np.ones(x1.shape)*b,np.ones(x1.shape)*c\n",
        "y_actual = actual_func(x1,x2,4,-3,2)"
      ],
      "metadata": {
        "id": "3C3INWOYe2A4"
      },
      "execution_count": 56,
      "outputs": []
    },
    {
      "cell_type": "code",
      "source": [
        "def mseLoss(y_pred,y):\n",
        "  return (np.sum(np.subtract(y_pred,y)**2))/(2*len(y_pred))\n"
      ],
      "metadata": {
        "id": "ZI3VOMprn8U4"
      },
      "execution_count": 57,
      "outputs": []
    },
    {
      "cell_type": "code",
      "source": [
        "def compute_grads(y_pred,y,x1,x2):\n",
        "  del_a = np.sum(np.multiply(np.subtract(y_pred,y),x1))/len(y_pred)\n",
        "  del_b = np.sum(np.multiply(np.subtract(y_pred,y),x2))/len(y_pred)\n",
        "  del_c = np.sum(np.subtract(y_pred,y))/len(y_pred)\n",
        "  return del_a,del_b,del_c\n"
      ],
      "metadata": {
        "id": "QH8wyKCmqVaH"
      },
      "execution_count": 58,
      "outputs": []
    },
    {
      "cell_type": "code",
      "source": [
        "def fit(x1,x2,y,lr=0.1,epochs=1):\n",
        "  a,b,c = _initialize_weights() \n",
        "  a,b,c = np.ones(x1.shape)*a,np.ones(x1.shape)*b,np.ones(x1.shape)*c\n",
        "\n",
        "  for i in range(epochs):\n",
        "    del_a=del_b=del_c = 0\n",
        "    y_pred = actual_func(x1,x2,a,b,c)\n",
        "    loss = mseLoss(y_pred,y)\n",
        "    \n",
        "    del_a,del_b,del_c = compute_grads(y_pred,y,x1,x2)\n",
        "    a-=lr*del_a\n",
        "    b-=lr*del_b\n",
        "    c-=lr*del_c\n",
        "   \n",
        "    if i%10==0:\n",
        "       print(\"Y_pred after each epoch : {} = {}\".format(i+10,y_pred))\n",
        "       print(\"Loss :\",loss)\n",
        "       print(\"a:\",a[0][0],\"b:\",b[0][0], \"c:\",c[0][0])\n",
        "       print('$'*50)\n",
        "\n",
        "fit(x1,x2,y_actual,epochs=100)"
      ],
      "metadata": {
        "id": "3MjaHqvurapl"
      },
      "execution_count": null,
      "outputs": []
    }
  ]
}