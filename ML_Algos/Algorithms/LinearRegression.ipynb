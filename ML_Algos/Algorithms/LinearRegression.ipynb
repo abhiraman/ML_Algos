{
  "cells": [
    {
      "cell_type": "markdown",
      "metadata": {
        "id": "view-in-github",
        "colab_type": "text"
      },
      "source": [
        "<a href=\"https://colab.research.google.com/github/abhiraman/ML_Algos/blob/main/ML_Algos/Algorithms/LinearRegression.ipynb\" target=\"_parent\"><img src=\"https://colab.research.google.com/assets/colab-badge.svg\" alt=\"Open In Colab\"/></a>"
      ]
    },
    {
      "cell_type": "code",
      "source": [
        "import numpy as np"
      ],
      "metadata": {
        "id": "kx9pbcsIeSYh"
      },
      "execution_count": 1,
      "outputs": []
    },
    {
      "cell_type": "code",
      "source": [
        "## Linear Equation y = 3x + 4\n",
        "np.random.seed(30)\n",
        "x = np.random.randint(-3,10,size=(10,))\n",
        "print(\"x:\",x)\n",
        "y = np.add(3*x,np.ones(x.shape)*4.).astype(np.int64)\n",
        "print(y)"
      ],
      "metadata": {
        "colab": {
          "base_uri": "https://localhost:8080/"
        },
        "id": "ojvUCrBKgmNa",
        "outputId": "61d9fd48-377f-4cb4-8b72-a3c2e060df66"
      },
      "execution_count": 2,
      "outputs": [
        {
          "output_type": "stream",
          "name": "stdout",
          "text": [
            "x: [ 2  2  1  9  4 -1  2  8 -2  0]\n",
            "[10 10  7 31 16  1 10 28 -2  4]\n"
          ]
        }
      ]
    },
    {
      "cell_type": "code",
      "source": [
        "def _intialize_weights():\n",
        "  m,c = np.random.randn(2,)\n",
        "  print(\"initial slope:\",m)\n",
        "  print(\"const:\",c)\n",
        "  return m,c\n",
        "\n",
        "#m,c = _intialize_weights()"
      ],
      "metadata": {
        "id": "Dxds-LFdhS9_"
      },
      "execution_count": 3,
      "outputs": []
    },
    {
      "cell_type": "code",
      "source": [
        "def linear_func(x,m,c):\n",
        "  return np.add(np.multiply(x,m),c)\n"
      ],
      "metadata": {
        "id": "RCUpIlO9ip7b"
      },
      "execution_count": 4,
      "outputs": []
    },
    {
      "cell_type": "code",
      "source": [
        "def mseLoss(y_pred,y):\n",
        "  return (np.sum(np.subtract(y_pred,y)**2))/(2*len(y_pred))"
      ],
      "metadata": {
        "id": "_F6a9L5njjN_"
      },
      "execution_count": 5,
      "outputs": []
    },
    {
      "cell_type": "code",
      "source": [
        "def compute_grad(y_pred,y,x):\n",
        "  del_m = np.sum(np.multiply(np.subtract(y_pred,y),x))/len(y_pred)\n",
        "  del_c = np.sum(np.subtract(y_pred,y))/len(y_pred)\n",
        "  return del_m,del_c"
      ],
      "metadata": {
        "id": "spIr9UdBlgV5"
      },
      "execution_count": 6,
      "outputs": []
    },
    {
      "cell_type": "code",
      "source": [
        "def fit(x,y,lr=0.1,epochs=1):\n",
        "  m,c = _intialize_weights() \n",
        "  m = np.ones(x.shape)*m\n",
        "  c = np.ones(x.shape)*c\n",
        "\n",
        "  for i in range(epochs):\n",
        "    del_m=del_c = 0\n",
        "    y_pred = linear_func(x,m,c)\n",
        "    loss = mseLoss(y_pred,y)\n",
        "    \n",
        "    del_m,del_c = compute_grad(y_pred,y,x)\n",
        "    m-=lr*del_m\n",
        "    c-=lr*del_c\n",
        "   \n",
        "    if i%10==0:\n",
        "       print(\"Y_pred after each epoch : {} = {}\".format(i+10,y_pred))\n",
        "       print(\"Loss :\",loss)\n",
        "       print(\"m:\",m[0], \"c:\",c[0])\n",
        "       print('$'*50)\n"
      ],
      "metadata": {
        "id": "HWf6dzA8nvly"
      },
      "execution_count": 7,
      "outputs": []
    },
    {
      "cell_type": "code",
      "source": [
        "fit(x,y,epochs=100)"
      ],
      "metadata": {
        "colab": {
          "base_uri": "https://localhost:8080/"
        },
        "id": "BB73p5G1pO2V",
        "outputId": "6751fd00-4770-4df9-8405-3f39e7f7c253"
      },
      "execution_count": 8,
      "outputs": [
        {
          "output_type": "stream",
          "name": "stdout",
          "text": [
            "initial slope: 0.20628314149688398\n",
            "const: 0.4483277680872867\n",
            "Y_pred after each epoch : 10 = [0.86089405 0.86089405 0.65461091 2.30487604 1.27346033 0.24204463\n",
            " 0.86089405 2.0985929  0.03576149 0.44832777]\n",
            "Loss : 100.9665465719862\n",
            "m: 6.094954376195641 c: 1.5019242059043374\n",
            "$$$$$$$$$$$$$$$$$$$$$$$$$$$$$$$$$$$$$$$$$$$$$$$$$$\n",
            "Y_pred after each epoch : 20 = [ 7.83738448  7.83738448  5.08669751 27.09219324 13.33875841 -0.41467642\n",
            "  7.83738448 24.34150627 -3.16536338  2.33601055]\n",
            "Loss : 2.977871149393449\n",
            "m: 3.6129546601774107 c: 2.5647377514358074\n",
            "$$$$$$$$$$$$$$$$$$$$$$$$$$$$$$$$$$$$$$$$$$$$$$$$$$\n",
            "Y_pred after each epoch : 30 = [ 9.26147665  9.26147665  6.21320682 30.5993655  15.35801632  0.11666714\n",
            "  9.26147665 27.55109567 -2.93160269  3.16493698]\n",
            "Loss : 0.2687475312610602\n",
            "m: 3.1706325847692156 c: 3.2363758228864055\n",
            "$$$$$$$$$$$$$$$$$$$$$$$$$$$$$$$$$$$$$$$$$$$$$$$$$$\n",
            "Y_pred after each epoch : 40 = [ 9.67432491  9.67432491  6.62308833 31.03298095 15.77679806  0.52061517\n",
            "  9.67432491 27.98174437 -2.5306214   3.57185175]\n",
            "Loss : 0.060308756881196954\n",
            "m: 3.066560166045241 c: 3.601857430954182\n",
            "$$$$$$$$$$$$$$$$$$$$$$$$$$$$$$$$$$$$$$$$$$$$$$$$$$\n",
            "Y_pred after each epoch : 50 = [ 9.83988862  9.83988862  6.80949224 31.05266331 15.90068139  0.74869947\n",
            "  9.83988862 28.02226693 -2.28169691  3.77909586]\n",
            "Loss : 0.015881866946507377\n",
            "m: 3.0312128925735635 c: 3.7935871739312725\n",
            "$$$$$$$$$$$$$$$$$$$$$$$$$$$$$$$$$$$$$$$$$$$$$$$$$$\n",
            "Y_pred after each epoch : 60 = [ 9.91841692  9.91841692  6.90211677 31.03251799 15.95101723  0.86951646\n",
            "  9.91841692 28.01621784 -2.14678369  3.88581661]\n",
            "Loss : 0.004243876358531963\n",
            "m: 3.0156687257705634 c: 3.8931599136926596\n",
            "$$$$$$$$$$$$$$$$$$$$$$$$$$$$$$$$$$$$$$$$$$$$$$$$$$\n",
            "Y_pred after each epoch : 70 = [ 9.957983    9.957983    6.94946591 31.01760266 15.97501719  0.93243172\n",
            "  9.957983   28.00908557 -2.07608538  3.94094881]\n",
            "Loss : 0.0011354010316872837\n",
            "m: 3.0080342921480514 c: 3.9447246582055304\n",
            "$$$$$$$$$$$$$$$$$$$$$$$$$$$$$$$$$$$$$$$$$$$$$$$$$$\n",
            "Y_pred after each epoch : 80 = [ 9.97829308  9.97829308  6.97387477 31.00922124 15.9871297   0.96503816\n",
            "  9.97829308 28.00480293 -2.03938015  3.96945646]\n",
            "Loss : 0.0003037938753657049\n",
            "m: 3.0041454207643774 c: 3.9714062398745447\n",
            "$$$$$$$$$$$$$$$$$$$$$$$$$$$$$$$$$$$$$$$$$$$$$$$$$$\n",
            "Y_pred after each epoch : 90 = [ 9.9887757   9.9887757   6.98648837 31.00478704 15.99335037  0.9819137\n",
            "  9.9887757  28.00249971 -2.02037363  3.98420103]\n",
            "Loss : 8.128535144584438e-05\n",
            "m: 3.0021427471458515 c: 3.985209097794517\n",
            "$$$$$$$$$$$$$$$$$$$$$$$$$$$$$$$$$$$$$$$$$$$$$$$$$$\n",
            "Y_pred after each epoch : 100 = [ 9.99419461  9.99419461  6.99301117 31.00247874 15.99656151  0.99064427\n",
            "  9.99419461 28.00129529 -2.01053917  3.99182772]\n",
            "Loss : 2.174932848364068e-05\n",
            "m: 3.001108147493303 c: 3.9923490854370103\n",
            "$$$$$$$$$$$$$$$$$$$$$$$$$$$$$$$$$$$$$$$$$$$$$$$$$$\n"
          ]
        }
      ]
    }
  ],
  "metadata": {
    "colab": {
      "name": "LinearRegression.ipynb",
      "provenance": [],
      "collapsed_sections": [],
      "authorship_tag": "ABX9TyMZhW1DmoUB7dmUIqWvp5gz",
      "include_colab_link": true
    },
    "kernelspec": {
      "display_name": "Python 3",
      "name": "python3"
    },
    "language_info": {
      "name": "python"
    }
  },
  "nbformat": 4,
  "nbformat_minor": 0
}